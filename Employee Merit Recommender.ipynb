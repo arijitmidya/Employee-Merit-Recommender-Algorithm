{
 "cells": [
  {
   "cell_type": "markdown",
   "id": "d2447f76",
   "metadata": {},
   "source": [
    "# Optimizing ML Model for Merit Recommender\n",
    "\n",
    "Problem Statement : \n",
    "\n",
    "A leading multinational corporation is facing the challenge of efficiently identifying suitable candidates for promotion, specifically targeting positions from managers and below across the organization. The existing procedure involves initially pinpointing potential candidates based on recommendations and past performance. The selected individuals undergo distinct training and evaluation programs tailored to the skill requirements of each department. After the program is completed, promotions are determined by factors such as training performance, key performance indicator (KPI) completion (with a threshold of over 60% completion), and other relevant criteria.\r\n",
    "\r\n",
    "However, the current process delays the announcement of promotions until after the comprehensive evaluation, delaying a seamless transition to new roles.\r\n",
    "\r\n",
    "In this project, we’ll create and improve the ML model’s performance in identifying the right people for promotion. We’ll improve the current promotion identification system for managerial and lower-level positions within the client’s multinational organization. We’ll utilize data science tools like pandas to load and analyze the dataset to discover the insights presented. Additionally, we’ll implement the ML algorithm using the scikit-learn library and optimization techniques using scikit-optimize to create the best ML model that can accurately identify the eligible candidates for promotion.\r\n",
    "\r\n",
    "This optimized ML model will facilitate a quicker identification and more efficient transition for selected individuals into their new roles across different parts of the organiz\n",
    "ation."
   ]
  },
  {
   "cell_type": "markdown",
   "id": "f8438cf0",
   "metadata": {
    "ExecuteTime": {
     "end_time": "2024-01-17T10:09:06.962476Z",
     "start_time": "2024-01-17T10:09:06.955055Z"
    }
   },
   "source": [
    "## Task 1: Import Modules\n",
    "\n",
    "Import the pandas and NumPy libraries for data analysis.\r\n",
    "\r\n",
    "Import feature engineering methods, ML algorithms, and evaluation metrics from the scikit-learn library.\r\n",
    "\r\n",
    "Add the random seed generator using NumPy."
   ]
  },
  {
   "cell_type": "code",
   "execution_count": 1,
   "id": "bff6db59",
   "metadata": {
    "ExecuteTime": {
     "end_time": "2024-01-25T10:26:59.109956Z",
     "start_time": "2024-01-25T10:26:59.106064Z"
    }
   },
   "outputs": [],
   "source": [
    "# Import numpy and pandas library\n",
    "import numpy as np \n",
    "import pandas as pd \n",
    "# Import feature engineering methods, machine learning algorithms and evaluation metrics from scikit learn\n",
    "from sklearn.preprocessing import LabelEncoder\n",
    "from sklearn.preprocessing import MinMaxScaler\n",
    "from sklearn.model_selection import cross_val_score\n",
    "from sklearn.neighbors import KNeighborsClassifier\n",
    "from sklearn.metrics import f1_score\n",
    "\n",
    "# Add seeding using Numpy\n",
    "np.random.seed(123)\n"
   ]
  },
  {
   "cell_type": "markdown",
   "id": "55d985cd",
   "metadata": {},
   "source": [
    "## Task 2: Load the Dataset\n",
    "\n",
    "In this task, perform the following actions:\r\n",
    "\r\n",
    "Load the dataset using the pandas library.\r\n",
    "\r\n",
    "Show the first 10 rows from the dataset.\r\n",
    "\r\n",
    "Show a list of all columns presented in the dataset.\r\n",
    "\r\n",
    "Show the dataset’s shape.\r\n",
    "\r\n",
    "Show the DataFrame’s summary."
   ]
  },
  {
   "cell_type": "code",
   "execution_count": 2,
   "id": "7be01dfb",
   "metadata": {
    "ExecuteTime": {
     "end_time": "2024-01-25T10:26:59.117441Z",
     "start_time": "2024-01-25T10:26:59.114608Z"
    }
   },
   "outputs": [],
   "source": [
    "# Load the dataset using pandas libary \n",
    "data = pd.read_csv('usercode/hr_analytics_data.csv')"
   ]
  },
  {
   "cell_type": "code",
   "execution_count": 3,
   "id": "54b796d5",
   "metadata": {
    "ExecuteTime": {
     "end_time": "2024-01-25T10:26:59.121563Z",
     "start_time": "2024-01-25T10:26:59.119207Z"
    }
   },
   "outputs": [
    {
     "data": {
      "text/html": [
       "<div>\n",
       "<style scoped>\n",
       "    .dataframe tbody tr th:only-of-type {\n",
       "        vertical-align: middle;\n",
       "    }\n",
       "\n",
       "    .dataframe tbody tr th {\n",
       "        vertical-align: top;\n",
       "    }\n",
       "\n",
       "    .dataframe thead th {\n",
       "        text-align: right;\n",
       "    }\n",
       "</style>\n",
       "<table border=\"1\" class=\"dataframe\">\n",
       "  <thead>\n",
       "    <tr style=\"text-align: right;\">\n",
       "      <th></th>\n",
       "      <th>employee_id</th>\n",
       "      <th>department</th>\n",
       "      <th>region</th>\n",
       "      <th>education</th>\n",
       "      <th>gender</th>\n",
       "      <th>recruitment_channel</th>\n",
       "      <th>no_of_trainings</th>\n",
       "      <th>age</th>\n",
       "      <th>previous_year_rating</th>\n",
       "      <th>length_of_service</th>\n",
       "      <th>KPIs_met &gt;80%</th>\n",
       "      <th>awards_won?</th>\n",
       "      <th>avg_training_score</th>\n",
       "      <th>is_promoted</th>\n",
       "    </tr>\n",
       "  </thead>\n",
       "  <tbody>\n",
       "    <tr>\n",
       "      <th>0</th>\n",
       "      <td>8455</td>\n",
       "      <td>Operations</td>\n",
       "      <td>region_5</td>\n",
       "      <td>Bachelor's</td>\n",
       "      <td>m</td>\n",
       "      <td>sourcing</td>\n",
       "      <td>1</td>\n",
       "      <td>32</td>\n",
       "      <td>4.0</td>\n",
       "      <td>5</td>\n",
       "      <td>0</td>\n",
       "      <td>0</td>\n",
       "      <td>61</td>\n",
       "      <td>0</td>\n",
       "    </tr>\n",
       "    <tr>\n",
       "      <th>1</th>\n",
       "      <td>45188</td>\n",
       "      <td>Technology</td>\n",
       "      <td>region_11</td>\n",
       "      <td>Bachelor's</td>\n",
       "      <td>f</td>\n",
       "      <td>other</td>\n",
       "      <td>1</td>\n",
       "      <td>35</td>\n",
       "      <td>1.0</td>\n",
       "      <td>4</td>\n",
       "      <td>1</td>\n",
       "      <td>0</td>\n",
       "      <td>76</td>\n",
       "      <td>0</td>\n",
       "    </tr>\n",
       "    <tr>\n",
       "      <th>2</th>\n",
       "      <td>10881</td>\n",
       "      <td>Operations</td>\n",
       "      <td>region_26</td>\n",
       "      <td>Bachelor's</td>\n",
       "      <td>m</td>\n",
       "      <td>other</td>\n",
       "      <td>1</td>\n",
       "      <td>28</td>\n",
       "      <td>3.0</td>\n",
       "      <td>4</td>\n",
       "      <td>0</td>\n",
       "      <td>0</td>\n",
       "      <td>59</td>\n",
       "      <td>0</td>\n",
       "    </tr>\n",
       "    <tr>\n",
       "      <th>3</th>\n",
       "      <td>70189</td>\n",
       "      <td>Technology</td>\n",
       "      <td>region_15</td>\n",
       "      <td>Bachelor's</td>\n",
       "      <td>m</td>\n",
       "      <td>other</td>\n",
       "      <td>2</td>\n",
       "      <td>40</td>\n",
       "      <td>5.0</td>\n",
       "      <td>13</td>\n",
       "      <td>1</td>\n",
       "      <td>0</td>\n",
       "      <td>78</td>\n",
       "      <td>0</td>\n",
       "    </tr>\n",
       "    <tr>\n",
       "      <th>4</th>\n",
       "      <td>69740</td>\n",
       "      <td>Sales &amp; Marketing</td>\n",
       "      <td>region_2</td>\n",
       "      <td>Bachelor's</td>\n",
       "      <td>f</td>\n",
       "      <td>sourcing</td>\n",
       "      <td>1</td>\n",
       "      <td>40</td>\n",
       "      <td>3.0</td>\n",
       "      <td>11</td>\n",
       "      <td>0</td>\n",
       "      <td>0</td>\n",
       "      <td>54</td>\n",
       "      <td>0</td>\n",
       "    </tr>\n",
       "    <tr>\n",
       "      <th>5</th>\n",
       "      <td>55412</td>\n",
       "      <td>Analytics</td>\n",
       "      <td>region_22</td>\n",
       "      <td>Bachelor's</td>\n",
       "      <td>m</td>\n",
       "      <td>sourcing</td>\n",
       "      <td>2</td>\n",
       "      <td>30</td>\n",
       "      <td>3.0</td>\n",
       "      <td>6</td>\n",
       "      <td>1</td>\n",
       "      <td>0</td>\n",
       "      <td>85</td>\n",
       "      <td>0</td>\n",
       "    </tr>\n",
       "    <tr>\n",
       "      <th>6</th>\n",
       "      <td>11507</td>\n",
       "      <td>Operations</td>\n",
       "      <td>region_29</td>\n",
       "      <td>Bachelor's</td>\n",
       "      <td>f</td>\n",
       "      <td>sourcing</td>\n",
       "      <td>1</td>\n",
       "      <td>32</td>\n",
       "      <td>4.0</td>\n",
       "      <td>2</td>\n",
       "      <td>0</td>\n",
       "      <td>0</td>\n",
       "      <td>63</td>\n",
       "      <td>0</td>\n",
       "    </tr>\n",
       "    <tr>\n",
       "      <th>7</th>\n",
       "      <td>36461</td>\n",
       "      <td>Technology</td>\n",
       "      <td>region_4</td>\n",
       "      <td>Bachelor's</td>\n",
       "      <td>m</td>\n",
       "      <td>sourcing</td>\n",
       "      <td>2</td>\n",
       "      <td>32</td>\n",
       "      <td>4.0</td>\n",
       "      <td>6</td>\n",
       "      <td>1</td>\n",
       "      <td>0</td>\n",
       "      <td>79</td>\n",
       "      <td>0</td>\n",
       "    </tr>\n",
       "    <tr>\n",
       "      <th>8</th>\n",
       "      <td>53185</td>\n",
       "      <td>Procurement</td>\n",
       "      <td>region_17</td>\n",
       "      <td>Bachelor's</td>\n",
       "      <td>m</td>\n",
       "      <td>other</td>\n",
       "      <td>1</td>\n",
       "      <td>35</td>\n",
       "      <td>3.0</td>\n",
       "      <td>7</td>\n",
       "      <td>1</td>\n",
       "      <td>1</td>\n",
       "      <td>65</td>\n",
       "      <td>0</td>\n",
       "    </tr>\n",
       "    <tr>\n",
       "      <th>9</th>\n",
       "      <td>27508</td>\n",
       "      <td>Sales &amp; Marketing</td>\n",
       "      <td>region_2</td>\n",
       "      <td>Bachelor's</td>\n",
       "      <td>m</td>\n",
       "      <td>sourcing</td>\n",
       "      <td>3</td>\n",
       "      <td>43</td>\n",
       "      <td>1.0</td>\n",
       "      <td>3</td>\n",
       "      <td>0</td>\n",
       "      <td>0</td>\n",
       "      <td>54</td>\n",
       "      <td>0</td>\n",
       "    </tr>\n",
       "  </tbody>\n",
       "</table>\n",
       "</div>"
      ],
      "text/plain": [
       "   employee_id         department     region   education gender  \\\n",
       "0         8455         Operations   region_5  Bachelor's      m   \n",
       "1        45188         Technology  region_11  Bachelor's      f   \n",
       "2        10881         Operations  region_26  Bachelor's      m   \n",
       "3        70189         Technology  region_15  Bachelor's      m   \n",
       "4        69740  Sales & Marketing   region_2  Bachelor's      f   \n",
       "5        55412          Analytics  region_22  Bachelor's      m   \n",
       "6        11507         Operations  region_29  Bachelor's      f   \n",
       "7        36461         Technology   region_4  Bachelor's      m   \n",
       "8        53185        Procurement  region_17  Bachelor's      m   \n",
       "9        27508  Sales & Marketing   region_2  Bachelor's      m   \n",
       "\n",
       "  recruitment_channel  no_of_trainings  age  previous_year_rating  \\\n",
       "0            sourcing                1   32                   4.0   \n",
       "1               other                1   35                   1.0   \n",
       "2               other                1   28                   3.0   \n",
       "3               other                2   40                   5.0   \n",
       "4            sourcing                1   40                   3.0   \n",
       "5            sourcing                2   30                   3.0   \n",
       "6            sourcing                1   32                   4.0   \n",
       "7            sourcing                2   32                   4.0   \n",
       "8               other                1   35                   3.0   \n",
       "9            sourcing                3   43                   1.0   \n",
       "\n",
       "   length_of_service  KPIs_met >80%  awards_won?  avg_training_score  \\\n",
       "0                  5              0            0                  61   \n",
       "1                  4              1            0                  76   \n",
       "2                  4              0            0                  59   \n",
       "3                 13              1            0                  78   \n",
       "4                 11              0            0                  54   \n",
       "5                  6              1            0                  85   \n",
       "6                  2              0            0                  63   \n",
       "7                  6              1            0                  79   \n",
       "8                  7              1            1                  65   \n",
       "9                  3              0            0                  54   \n",
       "\n",
       "   is_promoted  \n",
       "0            0  \n",
       "1            0  \n",
       "2            0  \n",
       "3            0  \n",
       "4            0  \n",
       "5            0  \n",
       "6            0  \n",
       "7            0  \n",
       "8            0  \n",
       "9            0  "
      ]
     },
     "execution_count": 3,
     "metadata": {},
     "output_type": "execute_result"
    }
   ],
   "source": [
    "# Print the first 10 rows\n",
    "\n",
    "data.head(10)"
   ]
  },
  {
   "cell_type": "code",
   "execution_count": 4,
   "id": "ec2d25f9",
   "metadata": {},
   "outputs": [
    {
     "data": {
      "text/plain": [
       "0    6268\n",
       "1    4232\n",
       "Name: is_promoted, dtype: int64"
      ]
     },
     "execution_count": 4,
     "metadata": {},
     "output_type": "execute_result"
    }
   ],
   "source": [
    "data.is_promoted.value_counts()"
   ]
  },
  {
   "cell_type": "code",
   "execution_count": 5,
   "id": "d04114d3",
   "metadata": {
    "ExecuteTime": {
     "end_time": "2024-01-25T10:26:59.126734Z",
     "start_time": "2024-01-25T10:26:59.124803Z"
    }
   },
   "outputs": [
    {
     "data": {
      "text/plain": [
       "['employee_id',\n",
       " 'department',\n",
       " 'region',\n",
       " 'education',\n",
       " 'gender',\n",
       " 'recruitment_channel',\n",
       " 'no_of_trainings',\n",
       " 'age',\n",
       " 'previous_year_rating',\n",
       " 'length_of_service',\n",
       " 'KPIs_met >80%',\n",
       " 'awards_won?',\n",
       " 'avg_training_score',\n",
       " 'is_promoted']"
      ]
     },
     "execution_count": 5,
     "metadata": {},
     "output_type": "execute_result"
    }
   ],
   "source": [
    "# print list of all columns\n",
    "\n",
    "list(data.columns)"
   ]
  },
  {
   "cell_type": "markdown",
   "id": "9fa59a1c",
   "metadata": {},
   "source": [
    "Definition of each variable in the dataset: \n",
    "\n",
    "| Variable              | Definition                                                           |\n",
    "|-----------------------|----------------------------------------------------------------------|\n",
    "| employee_id           | Unique ID for employee                                               |\n",
    "| department            | Department of employee                                               |\n",
    "| region                | Region of employment (unordered)                                     |\n",
    "| education             | Education Level                                                      |\n",
    "| gender                | Gender of Employee                                                   |\n",
    "| recruitment_channel   | Channel of recruitment for employee                                  |\n",
    "| no_of_trainings       | No of other trainings completed in the previous year on soft skills, technical skills, etc. |\n",
    "| age                   | Age of Employee                                                      |\n",
    "| previous_year_rating  | Employee Rating for the previous year                                 |\n",
    "| length_of_service     | Length of service in years                                           |\n",
    "| KPIs_met >80%         | If Percent of KPIs (Key Performance Indicators) >80% then 1 else 0    |\n",
    "| awards_won?           | If awards won during the previous year then 1 else 0                 |\n",
    "| avg_training_score    | Average score in current training evaluations                        |\n",
    "| is_promoted           | (Target) Recommended for promotion                                   |\n"
   ]
  },
  {
   "cell_type": "code",
   "execution_count": 6,
   "id": "a1977568",
   "metadata": {
    "ExecuteTime": {
     "end_time": "2024-01-25T10:26:59.129582Z",
     "start_time": "2024-01-25T10:26:59.127954Z"
    }
   },
   "outputs": [
    {
     "data": {
      "text/plain": [
       "(10500, 14)"
      ]
     },
     "execution_count": 6,
     "metadata": {},
     "output_type": "execute_result"
    }
   ],
   "source": [
    "# Print the shape of the dataset \n",
    "\n",
    "data.shape"
   ]
  },
  {
   "cell_type": "code",
   "execution_count": 7,
   "id": "c3388e4d",
   "metadata": {
    "ExecuteTime": {
     "end_time": "2024-01-25T10:26:59.131929Z",
     "start_time": "2024-01-25T10:26:59.130425Z"
    }
   },
   "outputs": [
    {
     "name": "stdout",
     "output_type": "stream",
     "text": [
      "<class 'pandas.core.frame.DataFrame'>\n",
      "RangeIndex: 10500 entries, 0 to 10499\n",
      "Data columns (total 14 columns):\n",
      " #   Column                Non-Null Count  Dtype  \n",
      "---  ------                --------------  -----  \n",
      " 0   employee_id           10500 non-null  int64  \n",
      " 1   department            10500 non-null  object \n",
      " 2   region                10500 non-null  object \n",
      " 3   education             10500 non-null  object \n",
      " 4   gender                10500 non-null  object \n",
      " 5   recruitment_channel   10500 non-null  object \n",
      " 6   no_of_trainings       10500 non-null  int64  \n",
      " 7   age                   10500 non-null  int64  \n",
      " 8   previous_year_rating  10500 non-null  float64\n",
      " 9   length_of_service     10500 non-null  int64  \n",
      " 10  KPIs_met >80%         10500 non-null  int64  \n",
      " 11  awards_won?           10500 non-null  int64  \n",
      " 12  avg_training_score    10500 non-null  int64  \n",
      " 13  is_promoted           10500 non-null  int64  \n",
      "dtypes: float64(1), int64(8), object(5)\n",
      "memory usage: 1.1+ MB\n"
     ]
    }
   ],
   "source": [
    "# Print a concise summary of the Data Frame\n",
    "\n",
    "data.info()"
   ]
  },
  {
   "cell_type": "markdown",
   "id": "bb2646f6",
   "metadata": {},
   "source": [
    "## Task 3: Clean the Dataset\n",
    "\n",
    "In this task, perform the following actions:\r\n",
    "\r\n",
    "Check if the dataset provided has missing values.\r\n",
    "\r\n",
    "Remove the ID column presented in the dataset."
   ]
  },
  {
   "cell_type": "code",
   "execution_count": 8,
   "id": "63bbb0f6",
   "metadata": {
    "ExecuteTime": {
     "end_time": "2024-01-25T10:26:59.134167Z",
     "start_time": "2024-01-25T10:26:59.132713Z"
    }
   },
   "outputs": [
    {
     "data": {
      "text/plain": [
       "employee_id             0\n",
       "department              0\n",
       "region                  0\n",
       "education               0\n",
       "gender                  0\n",
       "recruitment_channel     0\n",
       "no_of_trainings         0\n",
       "age                     0\n",
       "previous_year_rating    0\n",
       "length_of_service       0\n",
       "KPIs_met >80%           0\n",
       "awards_won?             0\n",
       "avg_training_score      0\n",
       "is_promoted             0\n",
       "dtype: int64"
      ]
     },
     "execution_count": 8,
     "metadata": {},
     "output_type": "execute_result"
    }
   ],
   "source": [
    "# Check missing values in data using isnull and sum functions\n",
    "\n",
    "data.isnull().sum()"
   ]
  },
  {
   "cell_type": "code",
   "execution_count": 9,
   "id": "acbf8d9c",
   "metadata": {
    "ExecuteTime": {
     "end_time": "2024-01-25T10:26:59.136350Z",
     "start_time": "2024-01-25T10:26:59.135141Z"
    }
   },
   "outputs": [
    {
     "data": {
      "text/html": [
       "<div>\n",
       "<style scoped>\n",
       "    .dataframe tbody tr th:only-of-type {\n",
       "        vertical-align: middle;\n",
       "    }\n",
       "\n",
       "    .dataframe tbody tr th {\n",
       "        vertical-align: top;\n",
       "    }\n",
       "\n",
       "    .dataframe thead th {\n",
       "        text-align: right;\n",
       "    }\n",
       "</style>\n",
       "<table border=\"1\" class=\"dataframe\">\n",
       "  <thead>\n",
       "    <tr style=\"text-align: right;\">\n",
       "      <th></th>\n",
       "      <th>department</th>\n",
       "      <th>region</th>\n",
       "      <th>education</th>\n",
       "      <th>gender</th>\n",
       "      <th>recruitment_channel</th>\n",
       "      <th>no_of_trainings</th>\n",
       "      <th>age</th>\n",
       "      <th>previous_year_rating</th>\n",
       "      <th>length_of_service</th>\n",
       "      <th>KPIs_met &gt;80%</th>\n",
       "      <th>awards_won?</th>\n",
       "      <th>avg_training_score</th>\n",
       "      <th>is_promoted</th>\n",
       "    </tr>\n",
       "  </thead>\n",
       "  <tbody>\n",
       "    <tr>\n",
       "      <th>0</th>\n",
       "      <td>Operations</td>\n",
       "      <td>region_5</td>\n",
       "      <td>Bachelor's</td>\n",
       "      <td>m</td>\n",
       "      <td>sourcing</td>\n",
       "      <td>1</td>\n",
       "      <td>32</td>\n",
       "      <td>4.0</td>\n",
       "      <td>5</td>\n",
       "      <td>0</td>\n",
       "      <td>0</td>\n",
       "      <td>61</td>\n",
       "      <td>0</td>\n",
       "    </tr>\n",
       "    <tr>\n",
       "      <th>1</th>\n",
       "      <td>Technology</td>\n",
       "      <td>region_11</td>\n",
       "      <td>Bachelor's</td>\n",
       "      <td>f</td>\n",
       "      <td>other</td>\n",
       "      <td>1</td>\n",
       "      <td>35</td>\n",
       "      <td>1.0</td>\n",
       "      <td>4</td>\n",
       "      <td>1</td>\n",
       "      <td>0</td>\n",
       "      <td>76</td>\n",
       "      <td>0</td>\n",
       "    </tr>\n",
       "    <tr>\n",
       "      <th>2</th>\n",
       "      <td>Operations</td>\n",
       "      <td>region_26</td>\n",
       "      <td>Bachelor's</td>\n",
       "      <td>m</td>\n",
       "      <td>other</td>\n",
       "      <td>1</td>\n",
       "      <td>28</td>\n",
       "      <td>3.0</td>\n",
       "      <td>4</td>\n",
       "      <td>0</td>\n",
       "      <td>0</td>\n",
       "      <td>59</td>\n",
       "      <td>0</td>\n",
       "    </tr>\n",
       "    <tr>\n",
       "      <th>3</th>\n",
       "      <td>Technology</td>\n",
       "      <td>region_15</td>\n",
       "      <td>Bachelor's</td>\n",
       "      <td>m</td>\n",
       "      <td>other</td>\n",
       "      <td>2</td>\n",
       "      <td>40</td>\n",
       "      <td>5.0</td>\n",
       "      <td>13</td>\n",
       "      <td>1</td>\n",
       "      <td>0</td>\n",
       "      <td>78</td>\n",
       "      <td>0</td>\n",
       "    </tr>\n",
       "    <tr>\n",
       "      <th>4</th>\n",
       "      <td>Sales &amp; Marketing</td>\n",
       "      <td>region_2</td>\n",
       "      <td>Bachelor's</td>\n",
       "      <td>f</td>\n",
       "      <td>sourcing</td>\n",
       "      <td>1</td>\n",
       "      <td>40</td>\n",
       "      <td>3.0</td>\n",
       "      <td>11</td>\n",
       "      <td>0</td>\n",
       "      <td>0</td>\n",
       "      <td>54</td>\n",
       "      <td>0</td>\n",
       "    </tr>\n",
       "  </tbody>\n",
       "</table>\n",
       "</div>"
      ],
      "text/plain": [
       "          department     region   education gender recruitment_channel  \\\n",
       "0         Operations   region_5  Bachelor's      m            sourcing   \n",
       "1         Technology  region_11  Bachelor's      f               other   \n",
       "2         Operations  region_26  Bachelor's      m               other   \n",
       "3         Technology  region_15  Bachelor's      m               other   \n",
       "4  Sales & Marketing   region_2  Bachelor's      f            sourcing   \n",
       "\n",
       "   no_of_trainings  age  previous_year_rating  length_of_service  \\\n",
       "0                1   32                   4.0                  5   \n",
       "1                1   35                   1.0                  4   \n",
       "2                1   28                   3.0                  4   \n",
       "3                2   40                   5.0                 13   \n",
       "4                1   40                   3.0                 11   \n",
       "\n",
       "   KPIs_met >80%  awards_won?  avg_training_score  is_promoted  \n",
       "0              0            0                  61            0  \n",
       "1              1            0                  76            0  \n",
       "2              0            0                  59            0  \n",
       "3              1            0                  78            0  \n",
       "4              0            0                  54            0  "
      ]
     },
     "execution_count": 9,
     "metadata": {},
     "output_type": "execute_result"
    }
   ],
   "source": [
    "# Drop ID column from the dataset using drop function.\n",
    "\n",
    "data = data.drop(['employee_id'],axis=1)\n",
    "data.head()"
   ]
  },
  {
   "cell_type": "markdown",
   "id": "4111a377",
   "metadata": {},
   "source": [
    "## Task 4: Perform Exploratory Data Analysis\n",
    "\n",
    "In this task, evaluate the distribution for different values presented in each column in the dataset."
   ]
  },
  {
   "cell_type": "code",
   "execution_count": 10,
   "id": "47601db1",
   "metadata": {
    "ExecuteTime": {
     "end_time": "2024-01-25T10:26:59.138685Z",
     "start_time": "2024-01-25T10:26:59.137205Z"
    }
   },
   "outputs": [
    {
     "data": {
      "text/plain": [
       "0    6268\n",
       "1    4232\n",
       "Name: is_promoted, dtype: int64"
      ]
     },
     "execution_count": 10,
     "metadata": {},
     "output_type": "execute_result"
    }
   ],
   "source": [
    "# Evaluate target distribution using value_counts function\n",
    "\n",
    "data.is_promoted.value_counts()"
   ]
  },
  {
   "cell_type": "code",
   "execution_count": 11,
   "id": "573db9af",
   "metadata": {
    "ExecuteTime": {
     "end_time": "2024-01-25T10:26:59.143580Z",
     "start_time": "2024-01-25T10:26:59.141955Z"
    }
   },
   "outputs": [
    {
     "data": {
      "text/plain": [
       "Sales & Marketing    2946\n",
       "Operations           2328\n",
       "Technology           1525\n",
       "Procurement          1505\n",
       "Analytics            1024\n",
       "Finance               474\n",
       "HR                    387\n",
       "Legal                 164\n",
       "R&D                   147\n",
       "Name: department, dtype: int64"
      ]
     },
     "execution_count": 11,
     "metadata": {},
     "output_type": "execute_result"
    }
   ],
   "source": [
    "# Evaluate department distribution using value_counts function\n",
    "\n",
    "data.department.value_counts()"
   ]
  },
  {
   "cell_type": "code",
   "execution_count": 12,
   "id": "64db05f8",
   "metadata": {
    "ExecuteTime": {
     "end_time": "2024-01-25T10:26:59.146760Z",
     "start_time": "2024-01-25T10:26:59.144941Z"
    }
   },
   "outputs": [
    {
     "data": {
      "text/plain": [
       "Bachelor's          7093\n",
       "Master's & above    3300\n",
       "Below Secondary      107\n",
       "Name: education, dtype: int64"
      ]
     },
     "execution_count": 12,
     "metadata": {},
     "output_type": "execute_result"
    }
   ],
   "source": [
    "# Evaluate education distribution using value_counts function\n",
    "\n",
    "data.education.value_counts()"
   ]
  },
  {
   "cell_type": "code",
   "execution_count": 13,
   "id": "aeb90002",
   "metadata": {
    "ExecuteTime": {
     "end_time": "2024-01-25T10:26:59.149335Z",
     "start_time": "2024-01-25T10:26:59.147484Z"
    }
   },
   "outputs": [
    {
     "data": {
      "text/plain": [
       "m    7259\n",
       "f    3241\n",
       "Name: gender, dtype: int64"
      ]
     },
     "execution_count": 13,
     "metadata": {},
     "output_type": "execute_result"
    }
   ],
   "source": [
    "# Evaluate gender distribution using value_counts function\n",
    "\n",
    "data.gender.value_counts()"
   ]
  },
  {
   "cell_type": "code",
   "execution_count": 14,
   "id": "4bc00ebd",
   "metadata": {},
   "outputs": [
    {
     "data": {
      "text/plain": [
       "Index(['department', 'region', 'education', 'gender', 'recruitment_channel',\n",
       "       'no_of_trainings', 'age', 'previous_year_rating', 'length_of_service',\n",
       "       'KPIs_met >80%', 'awards_won?', 'avg_training_score', 'is_promoted'],\n",
       "      dtype='object')"
      ]
     },
     "execution_count": 14,
     "metadata": {},
     "output_type": "execute_result"
    }
   ],
   "source": [
    "data.columns"
   ]
  },
  {
   "cell_type": "code",
   "execution_count": 15,
   "id": "a4b7a47b",
   "metadata": {
    "ExecuteTime": {
     "end_time": "2024-01-25T10:26:59.151452Z",
     "start_time": "2024-01-25T10:26:59.150047Z"
    }
   },
   "outputs": [
    {
     "data": {
      "text/plain": [
       "0    9910\n",
       "1     590\n",
       "Name: awards_won?, dtype: int64"
      ]
     },
     "execution_count": 15,
     "metadata": {},
     "output_type": "execute_result"
    }
   ],
   "source": [
    "# Evaluate awards_won? distribution using value_counts function\n",
    "\n",
    "data['awards_won?'].value_counts()"
   ]
  },
  {
   "cell_type": "code",
   "execution_count": 16,
   "id": "cc2eb475",
   "metadata": {
    "ExecuteTime": {
     "end_time": "2024-01-25T10:26:59.153630Z",
     "start_time": "2024-01-25T10:26:59.152199Z"
    }
   },
   "outputs": [
    {
     "data": {
      "text/plain": [
       "0    5504\n",
       "1    4996\n",
       "Name: KPIs_met >80%, dtype: int64"
      ]
     },
     "execution_count": 16,
     "metadata": {},
     "output_type": "execute_result"
    }
   ],
   "source": [
    "# Evaluate KPIs_met >80% distribution using value_counts function\n",
    "\n",
    "data['KPIs_met >80%'].value_counts()"
   ]
  },
  {
   "cell_type": "code",
   "execution_count": 17,
   "id": "ed3b8c86",
   "metadata": {
    "ExecuteTime": {
     "end_time": "2024-01-25T10:26:59.155757Z",
     "start_time": "2024-01-25T10:26:59.154379Z"
    }
   },
   "outputs": [
    {
     "data": {
      "text/plain": [
       "other       5813\n",
       "sourcing    4445\n",
       "referred     242\n",
       "Name: recruitment_channel, dtype: int64"
      ]
     },
     "execution_count": 17,
     "metadata": {},
     "output_type": "execute_result"
    }
   ],
   "source": [
    "# Evaluate the recruitment_channel distribution using value_counts function\n",
    "\n",
    "data.recruitment_channel.value_counts()"
   ]
  },
  {
   "cell_type": "code",
   "execution_count": 18,
   "id": "238dbe46",
   "metadata": {
    "ExecuteTime": {
     "end_time": "2024-01-25T10:26:59.157757Z",
     "start_time": "2024-01-25T10:26:59.156497Z"
    }
   },
   "outputs": [
    {
     "data": {
      "text/plain": [
       "region_2     2252\n",
       "region_22    1350\n",
       "region_7     1021\n",
       "region_15     547\n",
       "region_13     546\n",
       "region_4      398\n",
       "region_26     389\n",
       "region_31     344\n",
       "region_27     299\n",
       "region_16     287\n",
       "region_28     276\n",
       "region_23     263\n",
       "region_11     219\n",
       "region_17     197\n",
       "region_25     165\n",
       "region_20     158\n",
       "region_19     149\n",
       "region_29     146\n",
       "region_1      144\n",
       "region_32     144\n",
       "region_14     139\n",
       "region_30     135\n",
       "region_5      135\n",
       "region_8      127\n",
       "region_10     126\n",
       "region_6      100\n",
       "region_12      96\n",
       "region_24      77\n",
       "region_3       71\n",
       "region_21      62\n",
       "region_33      52\n",
       "region_9       50\n",
       "region_34      33\n",
       "region_18       3\n",
       "Name: region, dtype: int64"
      ]
     },
     "execution_count": 18,
     "metadata": {},
     "output_type": "execute_result"
    }
   ],
   "source": [
    "# Evaluate the region distribution using value_counts function\n",
    "\n",
    "data.region.value_counts()"
   ]
  },
  {
   "cell_type": "markdown",
   "id": "ab6ecaee",
   "metadata": {},
   "source": [
    "## Task 5: Split Features and Target Variables\n",
    "\n",
    "In this task, save all feature variables in one DataFrame and the target variable in another DataFrame."
   ]
  },
  {
   "cell_type": "code",
   "execution_count": 19,
   "id": "82185b78",
   "metadata": {
    "ExecuteTime": {
     "end_time": "2024-01-25T10:26:59.159652Z",
     "start_time": "2024-01-25T10:26:59.158352Z"
    }
   },
   "outputs": [],
   "source": [
    "# Split features and target from  data\n",
    "\n",
    "features = data.drop('is_promoted', axis=1)\n",
    "target = data.is_promoted.values"
   ]
  },
  {
   "cell_type": "markdown",
   "id": "283a3787",
   "metadata": {},
   "source": [
    "# Task 6: Preprocess Numerical Variables\n",
    "\n",
    "In this task, scale the following numerical columns:\r\n",
    "\r\n",
    "length_of_service\r\n",
    "\r\n",
    "previous_year_rating\r\n",
    "\r\n",
    "no_of_trainings\r\n",
    "\r\n",
    "avg_training_score\r\n",
    "\r\n",
    "age"
   ]
  },
  {
   "cell_type": "code",
   "execution_count": 20,
   "id": "3dc6b01a",
   "metadata": {
    "ExecuteTime": {
     "end_time": "2024-01-25T10:26:59.162081Z",
     "start_time": "2024-01-25T10:26:59.160441Z"
    }
   },
   "outputs": [],
   "source": [
    "# Scale the numerical columns (age, length_of_service,previous_year_rating,no_of_trainings & avg_training_score)\n",
    "# with MinMaxScaler()\n",
    "\n",
    "features[\"age\"] = MinMaxScaler().fit_transform(features[\"age\"].values.reshape(\n",
    "    -1, 1))\n",
    "features[\"length_of_service\"] = MinMaxScaler().fit_transform(\n",
    "    features[\"length_of_service\"].values.reshape(-1, 1))\n",
    "features[\"previous_year_rating\"] = MinMaxScaler().fit_transform(\n",
    "    features[\"previous_year_rating\"].values.reshape(-1, 1))\n",
    "features[\"no_of_trainings\"] = MinMaxScaler().fit_transform(\n",
    "    features[\"no_of_trainings\"].values.reshape(-1, 1))\n",
    "features[\"avg_training_score\"] = MinMaxScaler().fit_transform(\n",
    "    features[\"avg_training_score\"].values.reshape(-1, 1))"
   ]
  },
  {
   "cell_type": "code",
   "execution_count": 21,
   "id": "06759951",
   "metadata": {
    "ExecuteTime": {
     "end_time": "2024-01-25T10:26:59.164217Z",
     "start_time": "2024-01-25T10:26:59.162777Z"
    }
   },
   "outputs": [
    {
     "data": {
      "text/html": [
       "<div>\n",
       "<style scoped>\n",
       "    .dataframe tbody tr th:only-of-type {\n",
       "        vertical-align: middle;\n",
       "    }\n",
       "\n",
       "    .dataframe tbody tr th {\n",
       "        vertical-align: top;\n",
       "    }\n",
       "\n",
       "    .dataframe thead th {\n",
       "        text-align: right;\n",
       "    }\n",
       "</style>\n",
       "<table border=\"1\" class=\"dataframe\">\n",
       "  <thead>\n",
       "    <tr style=\"text-align: right;\">\n",
       "      <th></th>\n",
       "      <th>department</th>\n",
       "      <th>region</th>\n",
       "      <th>education</th>\n",
       "      <th>gender</th>\n",
       "      <th>recruitment_channel</th>\n",
       "      <th>no_of_trainings</th>\n",
       "      <th>age</th>\n",
       "      <th>previous_year_rating</th>\n",
       "      <th>length_of_service</th>\n",
       "      <th>KPIs_met &gt;80%</th>\n",
       "      <th>awards_won?</th>\n",
       "      <th>avg_training_score</th>\n",
       "    </tr>\n",
       "  </thead>\n",
       "  <tbody>\n",
       "    <tr>\n",
       "      <th>0</th>\n",
       "      <td>Operations</td>\n",
       "      <td>region_5</td>\n",
       "      <td>Bachelor's</td>\n",
       "      <td>m</td>\n",
       "      <td>sourcing</td>\n",
       "      <td>0.000000</td>\n",
       "      <td>0.300</td>\n",
       "      <td>0.75</td>\n",
       "      <td>0.121212</td>\n",
       "      <td>0</td>\n",
       "      <td>0</td>\n",
       "      <td>0.344828</td>\n",
       "    </tr>\n",
       "    <tr>\n",
       "      <th>1</th>\n",
       "      <td>Technology</td>\n",
       "      <td>region_11</td>\n",
       "      <td>Bachelor's</td>\n",
       "      <td>f</td>\n",
       "      <td>other</td>\n",
       "      <td>0.000000</td>\n",
       "      <td>0.375</td>\n",
       "      <td>0.00</td>\n",
       "      <td>0.090909</td>\n",
       "      <td>1</td>\n",
       "      <td>0</td>\n",
       "      <td>0.603448</td>\n",
       "    </tr>\n",
       "    <tr>\n",
       "      <th>2</th>\n",
       "      <td>Operations</td>\n",
       "      <td>region_26</td>\n",
       "      <td>Bachelor's</td>\n",
       "      <td>m</td>\n",
       "      <td>other</td>\n",
       "      <td>0.000000</td>\n",
       "      <td>0.200</td>\n",
       "      <td>0.50</td>\n",
       "      <td>0.090909</td>\n",
       "      <td>0</td>\n",
       "      <td>0</td>\n",
       "      <td>0.310345</td>\n",
       "    </tr>\n",
       "    <tr>\n",
       "      <th>3</th>\n",
       "      <td>Technology</td>\n",
       "      <td>region_15</td>\n",
       "      <td>Bachelor's</td>\n",
       "      <td>m</td>\n",
       "      <td>other</td>\n",
       "      <td>0.111111</td>\n",
       "      <td>0.500</td>\n",
       "      <td>1.00</td>\n",
       "      <td>0.363636</td>\n",
       "      <td>1</td>\n",
       "      <td>0</td>\n",
       "      <td>0.637931</td>\n",
       "    </tr>\n",
       "    <tr>\n",
       "      <th>4</th>\n",
       "      <td>Sales &amp; Marketing</td>\n",
       "      <td>region_2</td>\n",
       "      <td>Bachelor's</td>\n",
       "      <td>f</td>\n",
       "      <td>sourcing</td>\n",
       "      <td>0.000000</td>\n",
       "      <td>0.500</td>\n",
       "      <td>0.50</td>\n",
       "      <td>0.303030</td>\n",
       "      <td>0</td>\n",
       "      <td>0</td>\n",
       "      <td>0.224138</td>\n",
       "    </tr>\n",
       "  </tbody>\n",
       "</table>\n",
       "</div>"
      ],
      "text/plain": [
       "          department     region   education gender recruitment_channel  \\\n",
       "0         Operations   region_5  Bachelor's      m            sourcing   \n",
       "1         Technology  region_11  Bachelor's      f               other   \n",
       "2         Operations  region_26  Bachelor's      m               other   \n",
       "3         Technology  region_15  Bachelor's      m               other   \n",
       "4  Sales & Marketing   region_2  Bachelor's      f            sourcing   \n",
       "\n",
       "   no_of_trainings    age  previous_year_rating  length_of_service  \\\n",
       "0         0.000000  0.300                  0.75           0.121212   \n",
       "1         0.000000  0.375                  0.00           0.090909   \n",
       "2         0.000000  0.200                  0.50           0.090909   \n",
       "3         0.111111  0.500                  1.00           0.363636   \n",
       "4         0.000000  0.500                  0.50           0.303030   \n",
       "\n",
       "   KPIs_met >80%  awards_won?  avg_training_score  \n",
       "0              0            0            0.344828  \n",
       "1              1            0            0.603448  \n",
       "2              0            0            0.310345  \n",
       "3              1            0            0.637931  \n",
       "4              0            0            0.224138  "
      ]
     },
     "execution_count": 21,
     "metadata": {},
     "output_type": "execute_result"
    }
   ],
   "source": [
    "# Show top rows to check numerical transformation\n",
    "\n",
    "features.head()"
   ]
  },
  {
   "cell_type": "markdown",
   "id": "4697ca74",
   "metadata": {},
   "source": [
    "# Task 7:  Preprocesss Binary Variables\n",
    "\n",
    "In this task, perform the following actions:\r\n",
    "\r\n",
    "Transform the values of the gender column into numerical values.\r\n",
    "\r\n",
    "Show the output of the transformed binary variable."
   ]
  },
  {
   "cell_type": "code",
   "execution_count": 22,
   "id": "ec739d71",
   "metadata": {
    "ExecuteTime": {
     "end_time": "2024-01-25T10:26:59.166299Z",
     "start_time": "2024-01-25T10:26:59.164968Z"
    }
   },
   "outputs": [
    {
     "name": "stderr",
     "output_type": "stream",
     "text": [
      "/usr/local/lib/python3.8/dist-packages/sklearn/preprocessing/_label.py:115: DataConversionWarning: A column-vector y was passed when a 1d array was expected. Please change the shape of y to (n_samples, ), for example using ravel().\n",
      "  y = column_or_1d(y, warn=True)\n"
     ]
    }
   ],
   "source": [
    "# Transform gender column into numerical representation using LabelEcoder() method.\n",
    "\n",
    "features[\"gender\"] = LabelEncoder().fit_transform(\n",
    "    features[\"gender\"].values.reshape(-1, 1))"
   ]
  },
  {
   "cell_type": "code",
   "execution_count": 23,
   "id": "dd7730af",
   "metadata": {
    "ExecuteTime": {
     "end_time": "2024-01-25T10:26:59.169065Z",
     "start_time": "2024-01-25T10:26:59.167023Z"
    }
   },
   "outputs": [
    {
     "data": {
      "text/html": [
       "<div>\n",
       "<style scoped>\n",
       "    .dataframe tbody tr th:only-of-type {\n",
       "        vertical-align: middle;\n",
       "    }\n",
       "\n",
       "    .dataframe tbody tr th {\n",
       "        vertical-align: top;\n",
       "    }\n",
       "\n",
       "    .dataframe thead th {\n",
       "        text-align: right;\n",
       "    }\n",
       "</style>\n",
       "<table border=\"1\" class=\"dataframe\">\n",
       "  <thead>\n",
       "    <tr style=\"text-align: right;\">\n",
       "      <th></th>\n",
       "      <th>department</th>\n",
       "      <th>region</th>\n",
       "      <th>education</th>\n",
       "      <th>gender</th>\n",
       "      <th>recruitment_channel</th>\n",
       "      <th>no_of_trainings</th>\n",
       "      <th>age</th>\n",
       "      <th>previous_year_rating</th>\n",
       "      <th>length_of_service</th>\n",
       "      <th>KPIs_met &gt;80%</th>\n",
       "      <th>awards_won?</th>\n",
       "      <th>avg_training_score</th>\n",
       "    </tr>\n",
       "  </thead>\n",
       "  <tbody>\n",
       "    <tr>\n",
       "      <th>0</th>\n",
       "      <td>Operations</td>\n",
       "      <td>region_5</td>\n",
       "      <td>Bachelor's</td>\n",
       "      <td>1</td>\n",
       "      <td>sourcing</td>\n",
       "      <td>0.000000</td>\n",
       "      <td>0.300</td>\n",
       "      <td>0.75</td>\n",
       "      <td>0.121212</td>\n",
       "      <td>0</td>\n",
       "      <td>0</td>\n",
       "      <td>0.344828</td>\n",
       "    </tr>\n",
       "    <tr>\n",
       "      <th>1</th>\n",
       "      <td>Technology</td>\n",
       "      <td>region_11</td>\n",
       "      <td>Bachelor's</td>\n",
       "      <td>0</td>\n",
       "      <td>other</td>\n",
       "      <td>0.000000</td>\n",
       "      <td>0.375</td>\n",
       "      <td>0.00</td>\n",
       "      <td>0.090909</td>\n",
       "      <td>1</td>\n",
       "      <td>0</td>\n",
       "      <td>0.603448</td>\n",
       "    </tr>\n",
       "    <tr>\n",
       "      <th>2</th>\n",
       "      <td>Operations</td>\n",
       "      <td>region_26</td>\n",
       "      <td>Bachelor's</td>\n",
       "      <td>1</td>\n",
       "      <td>other</td>\n",
       "      <td>0.000000</td>\n",
       "      <td>0.200</td>\n",
       "      <td>0.50</td>\n",
       "      <td>0.090909</td>\n",
       "      <td>0</td>\n",
       "      <td>0</td>\n",
       "      <td>0.310345</td>\n",
       "    </tr>\n",
       "    <tr>\n",
       "      <th>3</th>\n",
       "      <td>Technology</td>\n",
       "      <td>region_15</td>\n",
       "      <td>Bachelor's</td>\n",
       "      <td>1</td>\n",
       "      <td>other</td>\n",
       "      <td>0.111111</td>\n",
       "      <td>0.500</td>\n",
       "      <td>1.00</td>\n",
       "      <td>0.363636</td>\n",
       "      <td>1</td>\n",
       "      <td>0</td>\n",
       "      <td>0.637931</td>\n",
       "    </tr>\n",
       "    <tr>\n",
       "      <th>4</th>\n",
       "      <td>Sales &amp; Marketing</td>\n",
       "      <td>region_2</td>\n",
       "      <td>Bachelor's</td>\n",
       "      <td>0</td>\n",
       "      <td>sourcing</td>\n",
       "      <td>0.000000</td>\n",
       "      <td>0.500</td>\n",
       "      <td>0.50</td>\n",
       "      <td>0.303030</td>\n",
       "      <td>0</td>\n",
       "      <td>0</td>\n",
       "      <td>0.224138</td>\n",
       "    </tr>\n",
       "  </tbody>\n",
       "</table>\n",
       "</div>"
      ],
      "text/plain": [
       "          department     region   education  gender recruitment_channel  \\\n",
       "0         Operations   region_5  Bachelor's       1            sourcing   \n",
       "1         Technology  region_11  Bachelor's       0               other   \n",
       "2         Operations  region_26  Bachelor's       1               other   \n",
       "3         Technology  region_15  Bachelor's       1               other   \n",
       "4  Sales & Marketing   region_2  Bachelor's       0            sourcing   \n",
       "\n",
       "   no_of_trainings    age  previous_year_rating  length_of_service  \\\n",
       "0         0.000000  0.300                  0.75           0.121212   \n",
       "1         0.000000  0.375                  0.00           0.090909   \n",
       "2         0.000000  0.200                  0.50           0.090909   \n",
       "3         0.111111  0.500                  1.00           0.363636   \n",
       "4         0.000000  0.500                  0.50           0.303030   \n",
       "\n",
       "   KPIs_met >80%  awards_won?  avg_training_score  \n",
       "0              0            0            0.344828  \n",
       "1              1            0            0.603448  \n",
       "2              0            0            0.310345  \n",
       "3              1            0            0.637931  \n",
       "4              0            0            0.224138  "
      ]
     },
     "execution_count": 23,
     "metadata": {},
     "output_type": "execute_result"
    }
   ],
   "source": [
    "# Show top rows top check binary variables transformation\n",
    "\n",
    "features.head()"
   ]
  },
  {
   "cell_type": "markdown",
   "id": "1fc8bf8e",
   "metadata": {},
   "source": [
    "# Task 8: Preprocess Multiple Categorical Variables\n",
    "\n",
    "In this task, perform the following actions:\r\n",
    "\r\n",
    "Transform multiple categorical variables into a numerical representation.\r\n",
    "\r\n",
    "Show the result after transformation.\r\n",
    "\r\n",
    "Convert the features DataFrame into a NumPy array.\r\n",
    "\r\n",
    "Show the first 10 rows from the NumPy array."
   ]
  },
  {
   "cell_type": "code",
   "execution_count": 24,
   "id": "5ac1e9da",
   "metadata": {
    "ExecuteTime": {
     "end_time": "2024-01-25T10:26:59.173376Z",
     "start_time": "2024-01-25T10:26:59.171485Z"
    }
   },
   "outputs": [],
   "source": [
    "# Change categorical variables (region,education,department & recruitment_channel) to numerical with get_dummies() function \n",
    "\n",
    "# Change categorical variables (region, education, department, and recruitment_channel) to numerical with the get_dummies() function \n",
    "features = pd.get_dummies(features)"
   ]
  },
  {
   "cell_type": "code",
   "execution_count": 25,
   "id": "159879eb",
   "metadata": {
    "ExecuteTime": {
     "end_time": "2024-01-25T10:26:59.177261Z",
     "start_time": "2024-01-25T10:26:59.174268Z"
    }
   },
   "outputs": [
    {
     "data": {
      "text/html": [
       "<div>\n",
       "<style scoped>\n",
       "    .dataframe tbody tr th:only-of-type {\n",
       "        vertical-align: middle;\n",
       "    }\n",
       "\n",
       "    .dataframe tbody tr th {\n",
       "        vertical-align: top;\n",
       "    }\n",
       "\n",
       "    .dataframe thead th {\n",
       "        text-align: right;\n",
       "    }\n",
       "</style>\n",
       "<table border=\"1\" class=\"dataframe\">\n",
       "  <thead>\n",
       "    <tr style=\"text-align: right;\">\n",
       "      <th></th>\n",
       "      <th>gender</th>\n",
       "      <th>no_of_trainings</th>\n",
       "      <th>age</th>\n",
       "      <th>previous_year_rating</th>\n",
       "      <th>length_of_service</th>\n",
       "      <th>KPIs_met &gt;80%</th>\n",
       "      <th>awards_won?</th>\n",
       "      <th>avg_training_score</th>\n",
       "      <th>department_Analytics</th>\n",
       "      <th>department_Finance</th>\n",
       "      <th>...</th>\n",
       "      <th>region_region_6</th>\n",
       "      <th>region_region_7</th>\n",
       "      <th>region_region_8</th>\n",
       "      <th>region_region_9</th>\n",
       "      <th>education_Bachelor's</th>\n",
       "      <th>education_Below Secondary</th>\n",
       "      <th>education_Master's &amp; above</th>\n",
       "      <th>recruitment_channel_other</th>\n",
       "      <th>recruitment_channel_referred</th>\n",
       "      <th>recruitment_channel_sourcing</th>\n",
       "    </tr>\n",
       "  </thead>\n",
       "  <tbody>\n",
       "    <tr>\n",
       "      <th>0</th>\n",
       "      <td>1</td>\n",
       "      <td>0.000000</td>\n",
       "      <td>0.300</td>\n",
       "      <td>0.75</td>\n",
       "      <td>0.121212</td>\n",
       "      <td>0</td>\n",
       "      <td>0</td>\n",
       "      <td>0.344828</td>\n",
       "      <td>0</td>\n",
       "      <td>0</td>\n",
       "      <td>...</td>\n",
       "      <td>0</td>\n",
       "      <td>0</td>\n",
       "      <td>0</td>\n",
       "      <td>0</td>\n",
       "      <td>1</td>\n",
       "      <td>0</td>\n",
       "      <td>0</td>\n",
       "      <td>0</td>\n",
       "      <td>0</td>\n",
       "      <td>1</td>\n",
       "    </tr>\n",
       "    <tr>\n",
       "      <th>1</th>\n",
       "      <td>0</td>\n",
       "      <td>0.000000</td>\n",
       "      <td>0.375</td>\n",
       "      <td>0.00</td>\n",
       "      <td>0.090909</td>\n",
       "      <td>1</td>\n",
       "      <td>0</td>\n",
       "      <td>0.603448</td>\n",
       "      <td>0</td>\n",
       "      <td>0</td>\n",
       "      <td>...</td>\n",
       "      <td>0</td>\n",
       "      <td>0</td>\n",
       "      <td>0</td>\n",
       "      <td>0</td>\n",
       "      <td>1</td>\n",
       "      <td>0</td>\n",
       "      <td>0</td>\n",
       "      <td>1</td>\n",
       "      <td>0</td>\n",
       "      <td>0</td>\n",
       "    </tr>\n",
       "    <tr>\n",
       "      <th>2</th>\n",
       "      <td>1</td>\n",
       "      <td>0.000000</td>\n",
       "      <td>0.200</td>\n",
       "      <td>0.50</td>\n",
       "      <td>0.090909</td>\n",
       "      <td>0</td>\n",
       "      <td>0</td>\n",
       "      <td>0.310345</td>\n",
       "      <td>0</td>\n",
       "      <td>0</td>\n",
       "      <td>...</td>\n",
       "      <td>0</td>\n",
       "      <td>0</td>\n",
       "      <td>0</td>\n",
       "      <td>0</td>\n",
       "      <td>1</td>\n",
       "      <td>0</td>\n",
       "      <td>0</td>\n",
       "      <td>1</td>\n",
       "      <td>0</td>\n",
       "      <td>0</td>\n",
       "    </tr>\n",
       "    <tr>\n",
       "      <th>3</th>\n",
       "      <td>1</td>\n",
       "      <td>0.111111</td>\n",
       "      <td>0.500</td>\n",
       "      <td>1.00</td>\n",
       "      <td>0.363636</td>\n",
       "      <td>1</td>\n",
       "      <td>0</td>\n",
       "      <td>0.637931</td>\n",
       "      <td>0</td>\n",
       "      <td>0</td>\n",
       "      <td>...</td>\n",
       "      <td>0</td>\n",
       "      <td>0</td>\n",
       "      <td>0</td>\n",
       "      <td>0</td>\n",
       "      <td>1</td>\n",
       "      <td>0</td>\n",
       "      <td>0</td>\n",
       "      <td>1</td>\n",
       "      <td>0</td>\n",
       "      <td>0</td>\n",
       "    </tr>\n",
       "    <tr>\n",
       "      <th>4</th>\n",
       "      <td>0</td>\n",
       "      <td>0.000000</td>\n",
       "      <td>0.500</td>\n",
       "      <td>0.50</td>\n",
       "      <td>0.303030</td>\n",
       "      <td>0</td>\n",
       "      <td>0</td>\n",
       "      <td>0.224138</td>\n",
       "      <td>0</td>\n",
       "      <td>0</td>\n",
       "      <td>...</td>\n",
       "      <td>0</td>\n",
       "      <td>0</td>\n",
       "      <td>0</td>\n",
       "      <td>0</td>\n",
       "      <td>1</td>\n",
       "      <td>0</td>\n",
       "      <td>0</td>\n",
       "      <td>0</td>\n",
       "      <td>0</td>\n",
       "      <td>1</td>\n",
       "    </tr>\n",
       "  </tbody>\n",
       "</table>\n",
       "<p>5 rows × 57 columns</p>\n",
       "</div>"
      ],
      "text/plain": [
       "   gender  no_of_trainings    age  previous_year_rating  length_of_service  \\\n",
       "0       1         0.000000  0.300                  0.75           0.121212   \n",
       "1       0         0.000000  0.375                  0.00           0.090909   \n",
       "2       1         0.000000  0.200                  0.50           0.090909   \n",
       "3       1         0.111111  0.500                  1.00           0.363636   \n",
       "4       0         0.000000  0.500                  0.50           0.303030   \n",
       "\n",
       "   KPIs_met >80%  awards_won?  avg_training_score  department_Analytics  \\\n",
       "0              0            0            0.344828                     0   \n",
       "1              1            0            0.603448                     0   \n",
       "2              0            0            0.310345                     0   \n",
       "3              1            0            0.637931                     0   \n",
       "4              0            0            0.224138                     0   \n",
       "\n",
       "   department_Finance  ...  region_region_6  region_region_7  region_region_8  \\\n",
       "0                   0  ...                0                0                0   \n",
       "1                   0  ...                0                0                0   \n",
       "2                   0  ...                0                0                0   \n",
       "3                   0  ...                0                0                0   \n",
       "4                   0  ...                0                0                0   \n",
       "\n",
       "   region_region_9  education_Bachelor's  education_Below Secondary  \\\n",
       "0                0                     1                          0   \n",
       "1                0                     1                          0   \n",
       "2                0                     1                          0   \n",
       "3                0                     1                          0   \n",
       "4                0                     1                          0   \n",
       "\n",
       "   education_Master's & above  recruitment_channel_other  \\\n",
       "0                           0                          0   \n",
       "1                           0                          1   \n",
       "2                           0                          1   \n",
       "3                           0                          1   \n",
       "4                           0                          0   \n",
       "\n",
       "   recruitment_channel_referred  recruitment_channel_sourcing  \n",
       "0                             0                             1  \n",
       "1                             0                             0  \n",
       "2                             0                             0  \n",
       "3                             0                             0  \n",
       "4                             0                             1  \n",
       "\n",
       "[5 rows x 57 columns]"
      ]
     },
     "execution_count": 25,
     "metadata": {},
     "output_type": "execute_result"
    }
   ],
   "source": [
    "# show top rows top check categorical variables transformation\n",
    "\n",
    "features.head()"
   ]
  },
  {
   "cell_type": "code",
   "execution_count": 26,
   "id": "46186760",
   "metadata": {
    "ExecuteTime": {
     "end_time": "2024-01-25T10:26:59.180793Z",
     "start_time": "2024-01-25T10:26:59.178916Z"
    }
   },
   "outputs": [],
   "source": [
    "# Convert the DataFrame to a NumPy array. \n",
    "\n",
    "features = features.to_numpy()"
   ]
  },
  {
   "cell_type": "code",
   "execution_count": 27,
   "id": "bb138f7d",
   "metadata": {
    "ExecuteTime": {
     "end_time": "2024-01-25T10:26:59.183223Z",
     "start_time": "2024-01-25T10:26:59.181524Z"
    }
   },
   "outputs": [
    {
     "data": {
      "text/plain": [
       "array([[1.        , 0.        , 0.3       , 0.75      , 0.12121212,\n",
       "        0.        , 0.        , 0.34482759, 0.        , 0.        ,\n",
       "        0.        , 0.        , 1.        , 0.        , 0.        ,\n",
       "        0.        , 0.        , 0.        , 0.        , 0.        ,\n",
       "        0.        , 0.        , 0.        , 0.        , 0.        ,\n",
       "        0.        , 0.        , 0.        , 0.        , 0.        ,\n",
       "        0.        , 0.        , 0.        , 0.        , 0.        ,\n",
       "        0.        , 0.        , 0.        , 0.        , 0.        ,\n",
       "        0.        , 0.        , 0.        , 0.        , 0.        ,\n",
       "        0.        , 1.        , 0.        , 0.        , 0.        ,\n",
       "        0.        , 1.        , 0.        , 0.        , 0.        ,\n",
       "        0.        , 1.        ],\n",
       "       [0.        , 0.        , 0.375     , 0.        , 0.09090909,\n",
       "        1.        , 0.        , 0.60344828, 0.        , 0.        ,\n",
       "        0.        , 0.        , 0.        , 0.        , 0.        ,\n",
       "        0.        , 1.        , 0.        , 0.        , 1.        ,\n",
       "        0.        , 0.        , 0.        , 0.        , 0.        ,\n",
       "        0.        , 0.        , 0.        , 0.        , 0.        ,\n",
       "        0.        , 0.        , 0.        , 0.        , 0.        ,\n",
       "        0.        , 0.        , 0.        , 0.        , 0.        ,\n",
       "        0.        , 0.        , 0.        , 0.        , 0.        ,\n",
       "        0.        , 0.        , 0.        , 0.        , 0.        ,\n",
       "        0.        , 1.        , 0.        , 0.        , 1.        ,\n",
       "        0.        , 0.        ],\n",
       "       [1.        , 0.        , 0.2       , 0.5       , 0.09090909,\n",
       "        0.        , 0.        , 0.31034483, 0.        , 0.        ,\n",
       "        0.        , 0.        , 1.        , 0.        , 0.        ,\n",
       "        0.        , 0.        , 0.        , 0.        , 0.        ,\n",
       "        0.        , 0.        , 0.        , 0.        , 0.        ,\n",
       "        0.        , 0.        , 0.        , 0.        , 0.        ,\n",
       "        0.        , 0.        , 0.        , 0.        , 0.        ,\n",
       "        1.        , 0.        , 0.        , 0.        , 0.        ,\n",
       "        0.        , 0.        , 0.        , 0.        , 0.        ,\n",
       "        0.        , 0.        , 0.        , 0.        , 0.        ,\n",
       "        0.        , 1.        , 0.        , 0.        , 1.        ,\n",
       "        0.        , 0.        ],\n",
       "       [1.        , 0.11111111, 0.5       , 1.        , 0.36363636,\n",
       "        1.        , 0.        , 0.63793103, 0.        , 0.        ,\n",
       "        0.        , 0.        , 0.        , 0.        , 0.        ,\n",
       "        0.        , 1.        , 0.        , 0.        , 0.        ,\n",
       "        0.        , 0.        , 0.        , 1.        , 0.        ,\n",
       "        0.        , 0.        , 0.        , 0.        , 0.        ,\n",
       "        0.        , 0.        , 0.        , 0.        , 0.        ,\n",
       "        0.        , 0.        , 0.        , 0.        , 0.        ,\n",
       "        0.        , 0.        , 0.        , 0.        , 0.        ,\n",
       "        0.        , 0.        , 0.        , 0.        , 0.        ,\n",
       "        0.        , 1.        , 0.        , 0.        , 1.        ,\n",
       "        0.        , 0.        ],\n",
       "       [0.        , 0.        , 0.5       , 0.5       , 0.3030303 ,\n",
       "        0.        , 0.        , 0.22413793, 0.        , 0.        ,\n",
       "        0.        , 0.        , 0.        , 0.        , 0.        ,\n",
       "        1.        , 0.        , 0.        , 0.        , 0.        ,\n",
       "        0.        , 0.        , 0.        , 0.        , 0.        ,\n",
       "        0.        , 0.        , 0.        , 1.        , 0.        ,\n",
       "        0.        , 0.        , 0.        , 0.        , 0.        ,\n",
       "        0.        , 0.        , 0.        , 0.        , 0.        ,\n",
       "        0.        , 0.        , 0.        , 0.        , 0.        ,\n",
       "        0.        , 0.        , 0.        , 0.        , 0.        ,\n",
       "        0.        , 1.        , 0.        , 0.        , 0.        ,\n",
       "        0.        , 1.        ],\n",
       "       [1.        , 0.11111111, 0.25      , 0.5       , 0.15151515,\n",
       "        1.        , 0.        , 0.75862069, 1.        , 0.        ,\n",
       "        0.        , 0.        , 0.        , 0.        , 0.        ,\n",
       "        0.        , 0.        , 0.        , 0.        , 0.        ,\n",
       "        0.        , 0.        , 0.        , 0.        , 0.        ,\n",
       "        0.        , 0.        , 0.        , 0.        , 0.        ,\n",
       "        0.        , 1.        , 0.        , 0.        , 0.        ,\n",
       "        0.        , 0.        , 0.        , 0.        , 0.        ,\n",
       "        0.        , 0.        , 0.        , 0.        , 0.        ,\n",
       "        0.        , 0.        , 0.        , 0.        , 0.        ,\n",
       "        0.        , 1.        , 0.        , 0.        , 0.        ,\n",
       "        0.        , 1.        ],\n",
       "       [0.        , 0.        , 0.3       , 0.75      , 0.03030303,\n",
       "        0.        , 0.        , 0.37931034, 0.        , 0.        ,\n",
       "        0.        , 0.        , 1.        , 0.        , 0.        ,\n",
       "        0.        , 0.        , 0.        , 0.        , 0.        ,\n",
       "        0.        , 0.        , 0.        , 0.        , 0.        ,\n",
       "        0.        , 0.        , 0.        , 0.        , 0.        ,\n",
       "        0.        , 0.        , 0.        , 0.        , 0.        ,\n",
       "        0.        , 0.        , 0.        , 1.        , 0.        ,\n",
       "        0.        , 0.        , 0.        , 0.        , 0.        ,\n",
       "        0.        , 0.        , 0.        , 0.        , 0.        ,\n",
       "        0.        , 1.        , 0.        , 0.        , 0.        ,\n",
       "        0.        , 1.        ],\n",
       "       [1.        , 0.11111111, 0.3       , 0.75      , 0.15151515,\n",
       "        1.        , 0.        , 0.65517241, 0.        , 0.        ,\n",
       "        0.        , 0.        , 0.        , 0.        , 0.        ,\n",
       "        0.        , 1.        , 0.        , 0.        , 0.        ,\n",
       "        0.        , 0.        , 0.        , 0.        , 0.        ,\n",
       "        0.        , 0.        , 0.        , 0.        , 0.        ,\n",
       "        0.        , 0.        , 0.        , 0.        , 0.        ,\n",
       "        0.        , 0.        , 0.        , 0.        , 0.        ,\n",
       "        0.        , 0.        , 0.        , 0.        , 0.        ,\n",
       "        1.        , 0.        , 0.        , 0.        , 0.        ,\n",
       "        0.        , 1.        , 0.        , 0.        , 0.        ,\n",
       "        0.        , 1.        ],\n",
       "       [1.        , 0.        , 0.375     , 0.5       , 0.18181818,\n",
       "        1.        , 1.        , 0.4137931 , 0.        , 0.        ,\n",
       "        0.        , 0.        , 0.        , 1.        , 0.        ,\n",
       "        0.        , 0.        , 0.        , 0.        , 0.        ,\n",
       "        0.        , 0.        , 0.        , 0.        , 0.        ,\n",
       "        1.        , 0.        , 0.        , 0.        , 0.        ,\n",
       "        0.        , 0.        , 0.        , 0.        , 0.        ,\n",
       "        0.        , 0.        , 0.        , 0.        , 0.        ,\n",
       "        0.        , 0.        , 0.        , 0.        , 0.        ,\n",
       "        0.        , 0.        , 0.        , 0.        , 0.        ,\n",
       "        0.        , 1.        , 0.        , 0.        , 1.        ,\n",
       "        0.        , 0.        ],\n",
       "       [1.        , 0.22222222, 0.575     , 0.        , 0.06060606,\n",
       "        0.        , 0.        , 0.22413793, 0.        , 0.        ,\n",
       "        0.        , 0.        , 0.        , 0.        , 0.        ,\n",
       "        1.        , 0.        , 0.        , 0.        , 0.        ,\n",
       "        0.        , 0.        , 0.        , 0.        , 0.        ,\n",
       "        0.        , 0.        , 0.        , 1.        , 0.        ,\n",
       "        0.        , 0.        , 0.        , 0.        , 0.        ,\n",
       "        0.        , 0.        , 0.        , 0.        , 0.        ,\n",
       "        0.        , 0.        , 0.        , 0.        , 0.        ,\n",
       "        0.        , 0.        , 0.        , 0.        , 0.        ,\n",
       "        0.        , 1.        , 0.        , 0.        , 0.        ,\n",
       "        0.        , 1.        ]])"
      ]
     },
     "execution_count": 27,
     "metadata": {},
     "output_type": "execute_result"
    }
   ],
   "source": [
    "# Show top 10 rows of the features.\n",
    "\n",
    "features[:10]"
   ]
  },
  {
   "cell_type": "markdown",
   "id": "da637ca0",
   "metadata": {},
   "source": [
    "# Task 9:  Train a Base Machine Learning Model\n",
    "\n",
    "In this task, perform the following actions:\r\n",
    "\r\n",
    "Instantiate the ML algorithm for classification tasks. For this task, use the KNN algorithm.\r\n",
    "\r\n",
    "Perform the cross-validation technique when training the ML model. Remember to use the F1 score as an evaluation metric."
   ]
  },
  {
   "cell_type": "code",
   "execution_count": 28,
   "id": "dde78511",
   "metadata": {
    "ExecuteTime": {
     "end_time": "2024-01-25T10:26:59.185216Z",
     "start_time": "2024-01-25T10:26:59.184076Z"
    }
   },
   "outputs": [],
   "source": [
    "# Create a classifier\n",
    "\n",
    "knn_classifier = KNeighborsClassifier()"
   ]
  },
  {
   "cell_type": "code",
   "execution_count": 29,
   "id": "790ee39b",
   "metadata": {
    "ExecuteTime": {
     "end_time": "2024-01-25T10:26:59.187034Z",
     "start_time": "2024-01-25T10:26:59.185855Z"
    }
   },
   "outputs": [
    {
     "name": "stderr",
     "output_type": "stream",
     "text": [
      "/usr/local/lib/python3.8/dist-packages/sklearn/neighbors/_classification.py:228: FutureWarning: Unlike other reduction functions (e.g. `skew`, `kurtosis`), the default behavior of `mode` typically preserves the axis it acts along. In SciPy 1.11.0, this behavior will change: the default value of `keepdims` will become False, the `axis` over which the statistic is taken will be eliminated, and the value None will no longer be accepted. Set `keepdims` to True or False to avoid this warning.\n",
      "  mode, _ = stats.mode(_y[neigh_ind, k], axis=1)\n",
      "/usr/local/lib/python3.8/dist-packages/sklearn/neighbors/_classification.py:228: FutureWarning: Unlike other reduction functions (e.g. `skew`, `kurtosis`), the default behavior of `mode` typically preserves the axis it acts along. In SciPy 1.11.0, this behavior will change: the default value of `keepdims` will become False, the `axis` over which the statistic is taken will be eliminated, and the value None will no longer be accepted. Set `keepdims` to True or False to avoid this warning.\n",
      "  mode, _ = stats.mode(_y[neigh_ind, k], axis=1)\n",
      "/usr/local/lib/python3.8/dist-packages/sklearn/neighbors/_classification.py:228: FutureWarning: Unlike other reduction functions (e.g. `skew`, `kurtosis`), the default behavior of `mode` typically preserves the axis it acts along. In SciPy 1.11.0, this behavior will change: the default value of `keepdims` will become False, the `axis` over which the statistic is taken will be eliminated, and the value None will no longer be accepted. Set `keepdims` to True or False to avoid this warning.\n",
      "  mode, _ = stats.mode(_y[neigh_ind, k], axis=1)\n"
     ]
    }
   ],
   "source": [
    "# Implement and run the cross-val-score method\n",
    "score = cross_val_score(estimator=knn_classifier,\n",
    "                        X=features,\n",
    "                        y=target,\n",
    "                        scoring='f1',\n",
    "                        cv=3,\n",
    "                        n_jobs=-1)\n"
   ]
  },
  {
   "cell_type": "markdown",
   "id": "6bae492a",
   "metadata": {},
   "source": [
    "# Task 10: Show Model Performance\n",
    "\n",
    "In this task, evaluate the performance of the ML model to be used as a reference when optimizing its performance. Also, show the average performance of the trained ML model using the cross-validation technique."
   ]
  },
  {
   "cell_type": "code",
   "execution_count": 30,
   "id": "97453795",
   "metadata": {
    "ExecuteTime": {
     "end_time": "2024-01-25T10:26:59.191660Z",
     "start_time": "2024-01-25T10:26:59.190456Z"
    }
   },
   "outputs": [
    {
     "name": "stdout",
     "output_type": "stream",
     "text": [
      "Model performance: F1-score = 0.5762\n"
     ]
    }
   ],
   "source": [
    "# Show the mean score\n",
    "print('Model performance: F1-score =', round(score.mean(), 4))\n",
    "\n"
   ]
  },
  {
   "cell_type": "markdown",
   "id": "bf829ab5",
   "metadata": {},
   "source": [
    "# Task 11: Import Modules from Scikit-optimize Library \n",
    "\n",
    "In this task, perform the following actions:\r\n",
    "\r\n",
    "Import modules to define the search space.\r\n",
    "\r\n",
    "Import module to handle the search space.\r\n",
    "\r\n",
    "Import the optimization function to be used.\r\n",
    "\r\n",
    "Configure the integer value in NumPy."
   ]
  },
  {
   "cell_type": "code",
   "execution_count": 31,
   "id": "e84cba80",
   "metadata": {
    "ExecuteTime": {
     "end_time": "2024-01-25T10:26:59.193860Z",
     "start_time": "2024-01-25T10:26:59.192344Z"
    }
   },
   "outputs": [],
   "source": [
    "# Import scikit-optimize module to define the search space\n",
    "from skopt.space import Integer, Real, Categorical ,Real\n",
    "\n",
    "# Import decorator to handle search space\n",
    "from skopt.utils import use_named_args\n",
    "\n",
    "# import optimization function from scikit-optimize library\n",
    "from skopt import gp_minimize\n",
    "\n",
    "# configure integer using Numpy\n",
    "np.int = int"
   ]
  },
  {
   "cell_type": "markdown",
   "id": "276cfd18",
   "metadata": {},
   "source": [
    "# Task 12: Define list of Hyperparamters' values for Optimization\n",
    "\n",
    "In this task, perform the following actions:\r\n",
    "\r\n",
    "Read and understand the hyperparameters of the KNN algorithm.\r\n",
    "\r\n",
    "Define the hyperparameter values for weights, n_neighbors, leaf_size, p, and algorithm."
   ]
  },
  {
   "cell_type": "code",
   "execution_count": 32,
   "id": "49d96f14",
   "metadata": {
    "ExecuteTime": {
     "end_time": "2024-01-25T10:26:59.195821Z",
     "start_time": "2024-01-25T10:26:59.194498Z"
    }
   },
   "outputs": [],
   "source": [
    "# Define the hyperparamters values \n",
    "\n",
    "search_space = list()\n",
    "search_space.append(Categorical(['uniform', 'distance'], name='weights'))\n",
    "search_space.append(Integer(5, 100, name='n_neighbors'))\n",
    "search_space.append(Integer(5, 100, name='leaf_size'))\n",
    "search_space.append(Real(1,5,name='p'))\n",
    "search_space.append(Categorical(['auto', 'ball_tree', 'kd_tree','brute'], name='algorithm'))"
   ]
  },
  {
   "cell_type": "markdown",
   "id": "e3e538d2",
   "metadata": {},
   "source": [
    "# Task 13: Define the Objective Function\n",
    "\n",
    "In this task, perform the following steps:\r\n",
    "\r\n",
    "Use the imported decorator from scikit-optimize to handle the search space.\r\n",
    "\r\n",
    "Define the objective function to perform the following tasks:\r\n",
    "\r\n",
    "Instantiate the classifier.\r\n",
    "\r\n",
    "Pass the selected hyperparameter values.\r\n",
    "\r\n",
    "Train the classification algorithm using the cross-validation technique.\r\n",
    "\r\n",
    "Use the F1 score to evaluate performance.\r\n",
    "\r\n",
    "Return the mean score around four decimal places with a negative sign (minimize the result)."
   ]
  },
  {
   "cell_type": "code",
   "execution_count": 33,
   "id": "95768ea4",
   "metadata": {
    "ExecuteTime": {
     "end_time": "2024-01-25T10:26:59.197815Z",
     "start_time": "2024-01-25T10:26:59.196616Z"
    }
   },
   "outputs": [],
   "source": [
    "# Define the Objective function used to evaluate a given configuration\n",
    "\n",
    "@use_named_args(search_space)\n",
    "def objective_function(**params):\n",
    "    # Configure the model with specific hyperparameters\n",
    "    clf = KNeighborsClassifier(**params, n_jobs=-1)\n",
    "    \n",
    "    # Train the model\n",
    "    acc = cross_val_score(clf, features, target, scoring='f1', cv=3, n_jobs=-1).mean()\n",
    "    acc = round(acc,4)\n",
    "    \n",
    "    return -acc"
   ]
  },
  {
   "cell_type": "markdown",
   "id": "e5902674",
   "metadata": {},
   "source": [
    "# Task 14: Run the Optimization Method\n",
    "\n",
    "In this task, run the SMBO method provided by scikit-optimize. Remember to define the required parameters from the optimization method before running the code."
   ]
  },
  {
   "cell_type": "code",
   "execution_count": 34,
   "id": "f3f278ca",
   "metadata": {
    "ExecuteTime": {
     "end_time": "2024-01-25T10:26:59.199602Z",
     "start_time": "2024-01-25T10:26:59.198427Z"
    }
   },
   "outputs": [
    {
     "name": "stdout",
     "output_type": "stream",
     "text": [
      "Iteration No: 1 started. Evaluating function at random point.\n",
      "Iteration No: 1 ended. Evaluation done at random point.\n",
      "Time taken: 63.3853\n",
      "Function value obtained: -0.6031\n",
      "Current minimum: -0.6031\n",
      "Iteration No: 2 started. Evaluating function at random point.\n",
      "Iteration No: 2 ended. Evaluation done at random point.\n",
      "Time taken: 60.5145\n",
      "Function value obtained: -0.6069\n",
      "Current minimum: -0.6069\n",
      "Iteration No: 3 started. Evaluating function at random point.\n"
     ]
    },
    {
     "name": "stderr",
     "output_type": "stream",
     "text": [
      "/usr/local/lib/python3.8/dist-packages/sklearn/neighbors/_classification.py:228: FutureWarning: Unlike other reduction functions (e.g. `skew`, `kurtosis`), the default behavior of `mode` typically preserves the axis it acts along. In SciPy 1.11.0, this behavior will change: the default value of `keepdims` will become False, the `axis` over which the statistic is taken will be eliminated, and the value None will no longer be accepted. Set `keepdims` to True or False to avoid this warning.\n",
      "  mode, _ = stats.mode(_y[neigh_ind, k], axis=1)\n",
      "/usr/local/lib/python3.8/dist-packages/sklearn/neighbors/_classification.py:228: FutureWarning: Unlike other reduction functions (e.g. `skew`, `kurtosis`), the default behavior of `mode` typically preserves the axis it acts along. In SciPy 1.11.0, this behavior will change: the default value of `keepdims` will become False, the `axis` over which the statistic is taken will be eliminated, and the value None will no longer be accepted. Set `keepdims` to True or False to avoid this warning.\n",
      "  mode, _ = stats.mode(_y[neigh_ind, k], axis=1)\n",
      "/usr/local/lib/python3.8/dist-packages/sklearn/neighbors/_classification.py:228: FutureWarning: Unlike other reduction functions (e.g. `skew`, `kurtosis`), the default behavior of `mode` typically preserves the axis it acts along. In SciPy 1.11.0, this behavior will change: the default value of `keepdims` will become False, the `axis` over which the statistic is taken will be eliminated, and the value None will no longer be accepted. Set `keepdims` to True or False to avoid this warning.\n",
      "  mode, _ = stats.mode(_y[neigh_ind, k], axis=1)\n"
     ]
    },
    {
     "name": "stdout",
     "output_type": "stream",
     "text": [
      "Iteration No: 3 ended. Evaluation done at random point.\n",
      "Time taken: 65.3581\n",
      "Function value obtained: -0.5776\n",
      "Current minimum: -0.6069\n",
      "Iteration No: 4 started. Evaluating function at random point.\n",
      "Iteration No: 4 ended. Evaluation done at random point.\n",
      "Time taken: 62.3908\n",
      "Function value obtained: -0.6166\n",
      "Current minimum: -0.6166\n",
      "Iteration No: 5 started. Evaluating function at random point.\n",
      "Iteration No: 5 ended. Evaluation done at random point.\n",
      "Time taken: 62.7225\n",
      "Function value obtained: -0.6019\n",
      "Current minimum: -0.6166\n",
      "Iteration No: 6 started. Evaluating function at random point.\n",
      "Iteration No: 6 ended. Evaluation done at random point.\n",
      "Time taken: 59.4900\n",
      "Function value obtained: -0.6046\n",
      "Current minimum: -0.6166\n",
      "Iteration No: 7 started. Evaluating function at random point.\n"
     ]
    },
    {
     "name": "stderr",
     "output_type": "stream",
     "text": [
      "/usr/local/lib/python3.8/dist-packages/sklearn/neighbors/_classification.py:228: FutureWarning: Unlike other reduction functions (e.g. `skew`, `kurtosis`), the default behavior of `mode` typically preserves the axis it acts along. In SciPy 1.11.0, this behavior will change: the default value of `keepdims` will become False, the `axis` over which the statistic is taken will be eliminated, and the value None will no longer be accepted. Set `keepdims` to True or False to avoid this warning.\n",
      "  mode, _ = stats.mode(_y[neigh_ind, k], axis=1)\n",
      "/usr/local/lib/python3.8/dist-packages/sklearn/neighbors/_classification.py:228: FutureWarning: Unlike other reduction functions (e.g. `skew`, `kurtosis`), the default behavior of `mode` typically preserves the axis it acts along. In SciPy 1.11.0, this behavior will change: the default value of `keepdims` will become False, the `axis` over which the statistic is taken will be eliminated, and the value None will no longer be accepted. Set `keepdims` to True or False to avoid this warning.\n",
      "  mode, _ = stats.mode(_y[neigh_ind, k], axis=1)\n",
      "/usr/local/lib/python3.8/dist-packages/sklearn/neighbors/_classification.py:228: FutureWarning: Unlike other reduction functions (e.g. `skew`, `kurtosis`), the default behavior of `mode` typically preserves the axis it acts along. In SciPy 1.11.0, this behavior will change: the default value of `keepdims` will become False, the `axis` over which the statistic is taken will be eliminated, and the value None will no longer be accepted. Set `keepdims` to True or False to avoid this warning.\n",
      "  mode, _ = stats.mode(_y[neigh_ind, k], axis=1)\n"
     ]
    },
    {
     "name": "stdout",
     "output_type": "stream",
     "text": [
      "Iteration No: 7 ended. Evaluation done at random point.\n",
      "Time taken: 64.4284\n",
      "Function value obtained: -0.5942\n",
      "Current minimum: -0.6166\n",
      "Iteration No: 8 started. Evaluating function at random point.\n"
     ]
    },
    {
     "name": "stderr",
     "output_type": "stream",
     "text": [
      "/usr/local/lib/python3.8/dist-packages/sklearn/neighbors/_classification.py:228: FutureWarning: Unlike other reduction functions (e.g. `skew`, `kurtosis`), the default behavior of `mode` typically preserves the axis it acts along. In SciPy 1.11.0, this behavior will change: the default value of `keepdims` will become False, the `axis` over which the statistic is taken will be eliminated, and the value None will no longer be accepted. Set `keepdims` to True or False to avoid this warning.\n",
      "  mode, _ = stats.mode(_y[neigh_ind, k], axis=1)\n",
      "/usr/local/lib/python3.8/dist-packages/sklearn/neighbors/_classification.py:228: FutureWarning: Unlike other reduction functions (e.g. `skew`, `kurtosis`), the default behavior of `mode` typically preserves the axis it acts along. In SciPy 1.11.0, this behavior will change: the default value of `keepdims` will become False, the `axis` over which the statistic is taken will be eliminated, and the value None will no longer be accepted. Set `keepdims` to True or False to avoid this warning.\n",
      "  mode, _ = stats.mode(_y[neigh_ind, k], axis=1)\n",
      "/usr/local/lib/python3.8/dist-packages/sklearn/neighbors/_classification.py:228: FutureWarning: Unlike other reduction functions (e.g. `skew`, `kurtosis`), the default behavior of `mode` typically preserves the axis it acts along. In SciPy 1.11.0, this behavior will change: the default value of `keepdims` will become False, the `axis` over which the statistic is taken will be eliminated, and the value None will no longer be accepted. Set `keepdims` to True or False to avoid this warning.\n",
      "  mode, _ = stats.mode(_y[neigh_ind, k], axis=1)\n"
     ]
    },
    {
     "name": "stdout",
     "output_type": "stream",
     "text": [
      "Iteration No: 8 ended. Evaluation done at random point.\n",
      "Time taken: 63.6336\n",
      "Function value obtained: -0.5829\n",
      "Current minimum: -0.6166\n",
      "Iteration No: 9 started. Evaluating function at random point.\n",
      "Iteration No: 9 ended. Evaluation done at random point.\n",
      "Time taken: 62.0861\n",
      "Function value obtained: -0.6050\n",
      "Current minimum: -0.6166\n",
      "Iteration No: 10 started. Evaluating function at random point.\n"
     ]
    },
    {
     "name": "stderr",
     "output_type": "stream",
     "text": [
      "/usr/local/lib/python3.8/dist-packages/sklearn/neighbors/_classification.py:228: FutureWarning: Unlike other reduction functions (e.g. `skew`, `kurtosis`), the default behavior of `mode` typically preserves the axis it acts along. In SciPy 1.11.0, this behavior will change: the default value of `keepdims` will become False, the `axis` over which the statistic is taken will be eliminated, and the value None will no longer be accepted. Set `keepdims` to True or False to avoid this warning.\n",
      "  mode, _ = stats.mode(_y[neigh_ind, k], axis=1)\n",
      "/usr/local/lib/python3.8/dist-packages/sklearn/neighbors/_classification.py:228: FutureWarning: Unlike other reduction functions (e.g. `skew`, `kurtosis`), the default behavior of `mode` typically preserves the axis it acts along. In SciPy 1.11.0, this behavior will change: the default value of `keepdims` will become False, the `axis` over which the statistic is taken will be eliminated, and the value None will no longer be accepted. Set `keepdims` to True or False to avoid this warning.\n",
      "  mode, _ = stats.mode(_y[neigh_ind, k], axis=1)\n",
      "/usr/local/lib/python3.8/dist-packages/sklearn/neighbors/_classification.py:228: FutureWarning: Unlike other reduction functions (e.g. `skew`, `kurtosis`), the default behavior of `mode` typically preserves the axis it acts along. In SciPy 1.11.0, this behavior will change: the default value of `keepdims` will become False, the `axis` over which the statistic is taken will be eliminated, and the value None will no longer be accepted. Set `keepdims` to True or False to avoid this warning.\n",
      "  mode, _ = stats.mode(_y[neigh_ind, k], axis=1)\n"
     ]
    },
    {
     "name": "stdout",
     "output_type": "stream",
     "text": [
      "Iteration No: 10 ended. Evaluation done at random point.\n",
      "Time taken: 61.7713\n",
      "Function value obtained: -0.5779\n",
      "Current minimum: -0.6166\n",
      "Iteration No: 11 started. Searching for the next optimal point.\n",
      "Iteration No: 11 ended. Search finished for the next optimal point.\n",
      "Time taken: 8.4437\n",
      "Function value obtained: -0.6077\n",
      "Current minimum: -0.6166\n",
      "Iteration No: 12 started. Searching for the next optimal point.\n",
      "Iteration No: 12 ended. Search finished for the next optimal point.\n",
      "Time taken: 65.9258\n",
      "Function value obtained: -0.6043\n",
      "Current minimum: -0.6166\n",
      "Iteration No: 13 started. Searching for the next optimal point.\n",
      "Iteration No: 13 ended. Search finished for the next optimal point.\n",
      "Time taken: 4.7655\n",
      "Function value obtained: -0.6123\n",
      "Current minimum: -0.6166\n",
      "Iteration No: 14 started. Searching for the next optimal point.\n",
      "Iteration No: 14 ended. Search finished for the next optimal point.\n",
      "Time taken: 4.6413\n",
      "Function value obtained: -0.5947\n",
      "Current minimum: -0.6166\n",
      "Iteration No: 15 started. Searching for the next optimal point.\n",
      "Iteration No: 15 ended. Search finished for the next optimal point.\n",
      "Time taken: 63.0919\n",
      "Function value obtained: -0.5946\n",
      "Current minimum: -0.6166\n"
     ]
    }
   ],
   "source": [
    "# perform optimization\n",
    "result = gp_minimize(\n",
    "    func=objective_function,\n",
    "    dimensions=search_space,\n",
    "    n_calls=15,\n",
    "    random_state=442,\n",
    "    verbose=True,\n",
    "    n_jobs=-1,\n",
    ")\n"
   ]
  },
  {
   "cell_type": "markdown",
   "id": "ca01e3e7",
   "metadata": {},
   "source": [
    "# Task 15: Print the Best Combination of Hyperparameters and the Best Score\n",
    "\n",
    "In this task, perform the following actions:\r\n",
    "\r\n",
    "Show the best combination of hyperparameters that return the best performance of the ML model.\r\n",
    "\r\n",
    "Show the best score."
   ]
  },
  {
   "cell_type": "code",
   "execution_count": 35,
   "id": "ef1d0f5a",
   "metadata": {
    "ExecuteTime": {
     "end_time": "2024-01-25T10:26:59.201493Z",
     "start_time": "2024-01-25T10:26:59.200300Z"
    }
   },
   "outputs": [
    {
     "name": "stdout",
     "output_type": "stream",
     "text": [
      "best combination of hyperparameters: ['distance', 24, 57, 1.0649879219761123, 'auto']\n"
     ]
    }
   ],
   "source": [
    "# Print best combination of hyperparameters usign x attribute.\n",
    "\n",
    "print(\"best combination of hyperparameters:\", result.x)"
   ]
  },
  {
   "cell_type": "code",
   "execution_count": 36,
   "id": "e4d00f24",
   "metadata": {
    "ExecuteTime": {
     "end_time": "2024-01-25T10:26:59.203369Z",
     "start_time": "2024-01-25T10:26:59.202287Z"
    }
   },
   "outputs": [
    {
     "name": "stdout",
     "output_type": "stream",
     "text": [
      "Best score: 0.6166\n"
     ]
    }
   ],
   "source": [
    "# Show the best score after performing Sequential model-based optimisation Method\n",
    "\n",
    "print(\"Best score:\", abs(result.fun))"
   ]
  },
  {
   "cell_type": "markdown",
   "id": "b6269885",
   "metadata": {},
   "source": [
    "# Task 16: Retrain the Machine Learning Model with Best Combination of Hyperparamters\n",
    "\n",
    "In this task, perform the following actions:\r\n",
    "\r\n",
    "Instantiate the defined ML algorithm.\r\n",
    "\r\n",
    "Add the values of the best combination of hyperparameters in the ML algorithm class.\r\n",
    "\r\n",
    "Use the cross-validation technique to retrain the ML model.\r\n",
    "\r\n",
    "Use the F1 score as an evaluation metric in the cross-validation method.\r\n",
    "\r\n",
    "Show the new performance after retraining the ML model."
   ]
  },
  {
   "cell_type": "code",
   "execution_count": 37,
   "id": "6fb60cb5",
   "metadata": {
    "ExecuteTime": {
     "end_time": "2024-01-25T10:26:59.205371Z",
     "start_time": "2024-01-25T10:26:59.204092Z"
    }
   },
   "outputs": [],
   "source": [
    "# Create a classifier\n",
    "\n",
    "knn_classifier = KNeighborsClassifier(weights='distance',\n",
    "                                      n_neighbors=24,\n",
    "                                      leaf_size=57,\n",
    "                                      p=1.0,\n",
    "                                      algorithm='auto')"
   ]
  },
  {
   "cell_type": "code",
   "execution_count": 38,
   "id": "efbb9a53",
   "metadata": {
    "ExecuteTime": {
     "end_time": "2024-01-25T10:26:59.207190Z",
     "start_time": "2024-01-25T10:26:59.205963Z"
    }
   },
   "outputs": [],
   "source": [
    "# Implement and run the cross-val-score method\n",
    "\n",
    "score = cross_val_score(estimator=knn_classifier,\n",
    "                        X=features,\n",
    "                        y=target,\n",
    "                        scoring='f1',\n",
    "                        cv=3,\n",
    "                        n_jobs=-1)"
   ]
  },
  {
   "cell_type": "code",
   "execution_count": 39,
   "id": "91cab251",
   "metadata": {
    "ExecuteTime": {
     "end_time": "2024-01-25T10:26:59.209251Z",
     "start_time": "2024-01-25T10:26:59.207923Z"
    }
   },
   "outputs": [
    {
     "name": "stdout",
     "output_type": "stream",
     "text": [
      "Model performance: F1-score = 0.6171\n"
     ]
    }
   ],
   "source": [
    "# Show the mean score\n",
    "\n",
    "print('Model performance: F1-score =', round(score.mean(), 4))"
   ]
  },
  {
   "cell_type": "markdown",
   "id": "ad8d4db7",
   "metadata": {},
   "source": [
    "# Task 17: Save the Trained Machine Learning Model using Joblib Library\n",
    "\n",
    "In this task, perform the following actions:\r\n",
    "\r\n",
    "Import a Python package to save and load ML models.\r\n",
    "\r\n",
    "Save the retrained machine learning model in the current directory."
   ]
  },
  {
   "cell_type": "code",
   "execution_count": 40,
   "id": "8aa128a0",
   "metadata": {
    "ExecuteTime": {
     "end_time": "2024-01-25T10:26:59.211592Z",
     "start_time": "2024-01-25T10:26:59.209898Z"
    }
   },
   "outputs": [],
   "source": [
    "# Import joblib\n",
    "\n",
    "import joblib"
   ]
  },
  {
   "cell_type": "code",
   "execution_count": 41,
   "id": "6970cfa4",
   "metadata": {
    "ExecuteTime": {
     "end_time": "2024-01-25T10:26:59.213502Z",
     "start_time": "2024-01-25T10:26:59.212213Z"
    }
   },
   "outputs": [
    {
     "data": {
      "text/plain": [
       "['./knn_model.pkl']"
      ]
     },
     "execution_count": 41,
     "metadata": {},
     "output_type": "execute_result"
    }
   ],
   "source": [
    "# Save the trained model\n",
    "\n",
    "joblib.dump(knn_classifier,'./knn_model.pkl')"
   ]
  },
  {
   "cell_type": "code",
   "execution_count": null,
   "id": "b21a0089",
   "metadata": {},
   "outputs": [],
   "source": []
  }
 ],
 "metadata": {
  "kernelspec": {
   "display_name": "Python 3 (ipykernel)",
   "language": "python",
   "name": "python3"
  },
  "language_info": {
   "codemirror_mode": {
    "name": "ipython",
    "version": 3
   },
   "file_extension": ".py",
   "mimetype": "text/x-python",
   "name": "python",
   "nbconvert_exporter": "python",
   "pygments_lexer": "ipython3",
   "version": "3.8.10"
  },
  "toc": {
   "base_numbering": 1,
   "nav_menu": {},
   "number_sections": true,
   "sideBar": true,
   "skip_h1_title": false,
   "title_cell": "Table of Contents",
   "title_sidebar": "Contents",
   "toc_cell": false,
   "toc_position": {},
   "toc_section_display": true,
   "toc_window_display": false
  },
  "vscode": {
   "interpreter": {
    "hash": "916dbcbb3f70747c44a77c7bcd40155683ae19c65e1c03b4aa3499c5328201f1"
   }
  }
 },
 "nbformat": 4,
 "nbformat_minor": 5
}
